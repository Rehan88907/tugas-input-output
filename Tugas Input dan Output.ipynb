{
 "cells": [
  {
   "cell_type": "code",
   "execution_count": 1,
   "id": "2fa44506-970c-48b2-ae34-2c339de2143d",
   "metadata": {},
   "outputs": [
    {
     "name": "stdin",
     "output_type": "stream",
     "text": [
      "masukan nanma anda:  Raihan Daffa Abdurrohman\n",
      "masukan nim anda:  20230040145\n",
      "masukan umur anda:  19\n",
      "masukan alamat anda:  Jl. Amubawasasana Karya\n"
     ]
    },
    {
     "name": "stdout",
     "output_type": "stream",
     "text": [
      "biodata\n",
      "nama Raihan Daffa Abdurrohman\n",
      "nim 20230040145\n",
      "alamat Jl. Amubawasasana Karya\n"
     ]
    }
   ],
   "source": [
    "nama = input(\"masukan nanma anda: \")\n",
    "nim = input(\"masukan nim anda: \")\n",
    "umur = input(\"masukan umur anda: \")\n",
    "alamat = input(\"masukan alamat anda: \")\n",
    "\n",
    "print(\"biodata\")\n",
    "print(\"nama\", nama)\n",
    "print(\"nim\", nim)\n",
    "print(\"alamat\", alamat)\n"
   ]
  },
  {
   "cell_type": "code",
   "execution_count": 3,
   "id": "48b76cdf-50cd-4743-94ec-99e7c6bf3fb8",
   "metadata": {},
   "outputs": [
    {
     "name": "stdout",
     "output_type": "stream",
     "text": [
      "PUTRA NUSA\n",
      "NIVERSITAS NSA PTR SKABMI\n",
      "SUKABUMI PUTRA NUSA UNIVERSITAS\n",
      "UNPS\n",
      "TAS SAPU BUMI\n"
     ]
    }
   ],
   "source": [
    "kalimat = \"UNIVERSITAS NUSA PUTRA SUKABUMI\"\n",
    "\n",
    "#putra nusa\n",
    "print(kalimat[17:22], kalimat[12:16])\n",
    "\n",
    "#niversitas nsa ptra skabmi\n",
    "print(kalimat[1:11], kalimat[12:13]+kalimat[14:15]+kalimat[15:16], kalimat[17:18]+kalimat[19:20]+kalimat[20:21]\n",
    "      , kalimat[23:24]+kalimat[25:26]+kalimat[26:27]+kalimat[27:28]+kalimat[29:31])\n",
    "\n",
    "#sukabumi putra nusa universitas\n",
    "kata1 = kalimat.split()[0]\n",
    "kata2 = kalimat.split()[1]\n",
    "kata3 = kalimat.split()[2]\n",
    "kata4 = kalimat.split()[3]\n",
    "print(f\"{kata4} {kata3} {kata2} {kata1}\")\n",
    "\n",
    "#unps\n",
    "print(kalimat[0:1]+kalimat[12:13]+kalimat[17:18]+kalimat[23:24])\n",
    "\n",
    "#tas sapu bumi\n",
    "print(kalimat[8:11], kalimat[14:16]+kalimat[17:19], kalimat[27:34])\n"
   ]
  },
  {
   "cell_type": "code",
   "execution_count": null,
   "id": "588d6550-e804-4465-9e65-8547d92612d4",
   "metadata": {},
   "outputs": [],
   "source": []
  }
 ],
 "metadata": {
  "kernelspec": {
   "display_name": "Python 3 (ipykernel)",
   "language": "python",
   "name": "python3"
  },
  "language_info": {
   "codemirror_mode": {
    "name": "ipython",
    "version": 3
   },
   "file_extension": ".py",
   "mimetype": "text/x-python",
   "name": "python",
   "nbconvert_exporter": "python",
   "pygments_lexer": "ipython3",
   "version": "3.11.7"
  }
 },
 "nbformat": 4,
 "nbformat_minor": 5
}
